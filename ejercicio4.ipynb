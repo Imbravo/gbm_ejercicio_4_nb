{
 "cells": [
  {
   "cell_type": "markdown",
   "source": [
    "# Author: Jesus Ponte\n",
    "# Fecha: 15/09/2023\n",
    "# Ejercicio 4. Modelo de clasificación con Keras\n"
   ],
   "metadata": {
    "collapsed": false
   },
   "id": "451f97c84d883dab"
  },
  {
   "cell_type": "markdown",
   "source": [
    "## Importación de librerias\n",
    "### Se utiliza numpy para hacer la creación de la data random, manejo de los arrays, hacer shuffle de la data.\n",
    "### Sklearn para hacer la separación de la data a train, test\n",
    "### Keras para la creación de la red neuronal y las capas. \n"
   ],
   "metadata": {
    "collapsed": false
   },
   "id": "b40c30b3d464717a"
  },
  {
   "cell_type": "code",
   "execution_count": 209,
   "id": "initial_id",
   "metadata": {
    "collapsed": true,
    "ExecuteTime": {
     "end_time": "2023-09-15T17:07:41.189109100Z",
     "start_time": "2023-09-15T17:07:41.152840600Z"
    }
   },
   "outputs": [],
   "source": [
    "import numpy as np\n",
    "import keras\n",
    "from keras.models import Sequential\n",
    "from keras.layers import Dense\n",
    "from sklearn.model_selection import train_test_split\n",
    "from sklearn.preprocessing import StandardScaler\n",
    "#No uso pandas porque no haré limpieza de datos en general. "
   ]
  },
  {
   "cell_type": "markdown",
   "source": [
    "### Creación de la data random para las compras medianas"
   ],
   "metadata": {
    "collapsed": false
   },
   "id": "686daeccbc113e9f"
  },
  {
   "cell_type": "code",
   "execution_count": 210,
   "outputs": [],
   "source": [
    "np.random.seed(333)\n",
    "\n",
    "med_low = 110\n",
    "med_high = 200\n",
    "n_samples = 1000\n",
    "\n",
    "rng_med = np.random.uniform(low = med_low,high = med_high,size= (n_samples, 4))\n",
    "list = []\n",
    "\n",
    "for row in rng_med:\n",
    "    list.append( [np.random.uniform(max(row), med_high)])\n",
    "rng_med = np.append(rng_med, list, axis=1)\n",
    "rng_med[:, 0] = np.random.randint(1,10,n_samples)\n"
   ],
   "metadata": {
    "collapsed": false,
    "ExecuteTime": {
     "end_time": "2023-09-15T17:07:41.201037500Z",
     "start_time": "2023-09-15T17:07:41.156352Z"
    }
   },
   "id": "66b3041d3b46a64d"
  },
  {
   "cell_type": "markdown",
   "source": [
    "### Creación de la data random para las compras pequeñas\n"
   ],
   "metadata": {
    "collapsed": false
   },
   "id": "516e53029db598d2"
  },
  {
   "cell_type": "code",
   "execution_count": 211,
   "outputs": [],
   "source": [
    "low_low = 1\n",
    "low_high = 109\n",
    "\n",
    "rng_low = np.random.uniform(low = low_low,high = low_high,size= (n_samples, 4))\n",
    "list = []\n",
    "\n",
    "for row in rng_low:\n",
    "    list.append( [np.random.uniform(max(row), low_high)])\n",
    "rng_low = np.append(rng_low, list, axis=1)\n",
    "rng_low[:, 0] = np.random.randint(1,10,n_samples)"
   ],
   "metadata": {
    "collapsed": false,
    "ExecuteTime": {
     "end_time": "2023-09-15T17:07:41.215240800Z",
     "start_time": "2023-09-15T17:07:41.162783100Z"
    }
   },
   "id": "df5d7abb7e062896"
  },
  {
   "cell_type": "markdown",
   "source": [
    "### Creación de la data random para las compras grandes\n"
   ],
   "metadata": {
    "collapsed": false
   },
   "id": "e67e641b47492c62"
  },
  {
   "cell_type": "code",
   "execution_count": 212,
   "outputs": [],
   "source": [
    "high_low = 201\n",
    "high_high = 300\n",
    "\n",
    "rng_high = np.random.uniform(low = high_low, high = high_high, size= (n_samples, 4))\n",
    "list = []\n",
    "\n",
    "for row in rng_high:\n",
    "    list.append( [np.random.uniform(max(row), high_high)])\n",
    "rng_high = np.append(rng_high, list, axis=1)\n",
    "rng_high[:, 0] = np.random.randint(1,10,n_samples)"
   ],
   "metadata": {
    "collapsed": false,
    "ExecuteTime": {
     "end_time": "2023-09-15T17:07:41.251423900Z",
     "start_time": "2023-09-15T17:07:41.169305400Z"
    }
   },
   "id": "b0f5f4c43caed0c"
  },
  {
   "cell_type": "code",
   "execution_count": 213,
   "outputs": [
    {
     "data": {
      "text/plain": "array([[  2.        , 175.60556551, 111.51933014, 139.73049226,\n        175.95187433],\n       [  6.        , 114.34732992, 119.40771694, 118.76937641,\n        173.94453699],\n       [  4.        , 188.6140419 , 114.64504754, 115.44332022,\n        194.69051949],\n       ...,\n       [  4.        , 129.19257939, 132.19556061, 136.21792055,\n        193.70361172],\n       [  4.        , 156.5889737 , 180.10125321, 183.54580779,\n        198.32994646],\n       [  2.        , 127.47431218, 179.8777563 , 137.36345949,\n        191.47623487]])"
     },
     "execution_count": 213,
     "metadata": {},
     "output_type": "execute_result"
    }
   ],
   "source": [
    "rng_med"
   ],
   "metadata": {
    "collapsed": false,
    "ExecuteTime": {
     "end_time": "2023-09-15T17:07:41.252729100Z",
     "start_time": "2023-09-15T17:07:41.176704300Z"
    }
   },
   "id": "48e6a7ec28119e42"
  },
  {
   "cell_type": "code",
   "execution_count": 214,
   "outputs": [
    {
     "data": {
      "text/plain": "array([[  6.        ,  85.3861158 ,  91.35679873,  39.03732154,\n         95.77811947],\n       [  1.        ,  72.85804365,  55.14879886,  86.42777047,\n        106.52919557],\n       [  5.        ,  57.28669178,   8.3075709 ,  90.77954282,\n        105.69881373],\n       ...,\n       [  7.        ,  82.76169293,  77.1360357 ,   2.21256067,\n         97.84751877],\n       [  7.        ,  41.48133428,  41.2068064 ,  99.60333836,\n        102.0900129 ],\n       [  1.        ,  98.34979452,  50.02653847, 108.21037614,\n        108.46118704]])"
     },
     "execution_count": 214,
     "metadata": {},
     "output_type": "execute_result"
    }
   ],
   "source": [
    "rng_low"
   ],
   "metadata": {
    "collapsed": false,
    "ExecuteTime": {
     "end_time": "2023-09-15T17:07:41.264848400Z",
     "start_time": "2023-09-15T17:07:41.180725200Z"
    }
   },
   "id": "a2290a0b46841b7d"
  },
  {
   "cell_type": "code",
   "execution_count": 215,
   "outputs": [
    {
     "data": {
      "text/plain": "array([[  9.        , 277.3381838 , 223.26085368, 281.9143479 ,\n        286.79705436],\n       [  9.        , 233.69051989, 249.71746214, 219.44104326,\n        261.35236956],\n       [  8.        , 277.81550448, 261.76692006, 262.40059215,\n        287.56189694],\n       ...,\n       [  2.        , 274.69221385, 220.97355425, 267.03419693,\n        286.66087294],\n       [  2.        , 234.6405454 , 251.75470178, 246.15575064,\n        295.97262614],\n       [  1.        , 282.48629217, 294.59006904, 279.99915757,\n        297.41060408]])"
     },
     "execution_count": 215,
     "metadata": {},
     "output_type": "execute_result"
    }
   ],
   "source": [
    "rng_high"
   ],
   "metadata": {
    "collapsed": false,
    "ExecuteTime": {
     "end_time": "2023-09-15T17:07:41.264848400Z",
     "start_time": "2023-09-15T17:07:41.184427900Z"
    }
   },
   "id": "4da4aadda6dfe2bb"
  },
  {
   "cell_type": "markdown",
   "source": [
    "### Unión de las tres matrices para la creación de una tabla monolitica"
   ],
   "metadata": {
    "collapsed": false
   },
   "id": "388fd77a39565d16"
  },
  {
   "cell_type": "code",
   "execution_count": 216,
   "outputs": [],
   "source": [
    "sales = np.vstack([rng_low, rng_med, rng_high])"
   ],
   "metadata": {
    "collapsed": false,
    "ExecuteTime": {
     "end_time": "2023-09-15T17:07:41.264848400Z",
     "start_time": "2023-09-15T17:07:41.187095Z"
    }
   },
   "id": "d6175735a5669b4b"
  },
  {
   "cell_type": "code",
   "execution_count": 217,
   "outputs": [
    {
     "data": {
      "text/plain": "array([[  6.        ,  85.3861158 ,  91.35679873,  39.03732154,\n         95.77811947],\n       [  1.        ,  72.85804365,  55.14879886,  86.42777047,\n        106.52919557],\n       [  5.        ,  57.28669178,   8.3075709 ,  90.77954282,\n        105.69881373],\n       ...,\n       [  2.        , 274.69221385, 220.97355425, 267.03419693,\n        286.66087294],\n       [  2.        , 234.6405454 , 251.75470178, 246.15575064,\n        295.97262614],\n       [  1.        , 282.48629217, 294.59006904, 279.99915757,\n        297.41060408]])"
     },
     "execution_count": 217,
     "metadata": {},
     "output_type": "execute_result"
    }
   ],
   "source": [
    "sales"
   ],
   "metadata": {
    "collapsed": false,
    "ExecuteTime": {
     "end_time": "2023-09-15T17:07:41.267255Z",
     "start_time": "2023-09-15T17:07:41.190642800Z"
    }
   },
   "id": "7930bfba27b1bccc"
  },
  {
   "cell_type": "code",
   "execution_count": 218,
   "outputs": [],
   "source": [
    "labels = np.array([0] * n_samples + [1] * n_samples + [2] * n_samples)"
   ],
   "metadata": {
    "collapsed": false,
    "ExecuteTime": {
     "end_time": "2023-09-15T17:07:41.267255Z",
     "start_time": "2023-09-15T17:07:41.194732200Z"
    }
   },
   "id": "fe6f26cb694266a0"
  },
  {
   "cell_type": "code",
   "execution_count": 219,
   "outputs": [],
   "source": [
    "shuffle = np.arange(sales.shape[0])\n",
    "np.random.shuffle(shuffle)"
   ],
   "metadata": {
    "collapsed": false,
    "ExecuteTime": {
     "end_time": "2023-09-15T17:07:41.267255Z",
     "start_time": "2023-09-15T17:07:41.200534800Z"
    }
   },
   "id": "2711e600848d42c4"
  },
  {
   "cell_type": "code",
   "execution_count": 220,
   "outputs": [],
   "source": [
    "data = sales[shuffle]\n",
    "labels = labels[shuffle]"
   ],
   "metadata": {
    "collapsed": false,
    "ExecuteTime": {
     "end_time": "2023-09-15T17:07:41.267255Z",
     "start_time": "2023-09-15T17:07:41.202253400Z"
    }
   },
   "id": "e3111011f6d4a13"
  },
  {
   "cell_type": "code",
   "execution_count": 221,
   "outputs": [],
   "source": [
    "X_train, X_test, y_train, y_test = train_test_split(data, labels, test_size=0.2, random_state=50)\n",
    "\n",
    "scaler = StandardScaler()\n",
    "X_train = scaler.fit_transform(X_train)\n",
    "X_test = scaler.transform(X_test)"
   ],
   "metadata": {
    "collapsed": false,
    "ExecuteTime": {
     "end_time": "2023-09-15T17:07:41.267255Z",
     "start_time": "2023-09-15T17:07:41.206488100Z"
    }
   },
   "id": "13e6024738641658"
  },
  {
   "cell_type": "code",
   "execution_count": 222,
   "outputs": [],
   "source": [
    "model = Sequential()\n",
    "model.add(Dense(32, activation='relu', input_dim=5))\n",
    "\n",
    "model.add(Dense(32, activation='relu'))\n",
    "model.add(Dense(16, activation='relu'))\n",
    "model.add(Dense(3, activation='softmax'))\n",
    "\n",
    "model.compile(loss='sparse_categorical_crossentropy', optimizer='adam', metrics=['accuracy'])\n"
   ],
   "metadata": {
    "collapsed": false,
    "ExecuteTime": {
     "end_time": "2023-09-15T17:07:41.268758200Z",
     "start_time": "2023-09-15T17:07:41.212239500Z"
    }
   },
   "id": "440a35ac9e94c238"
  },
  {
   "cell_type": "markdown",
   "source": [
    "### Test 1. Epochs=5, batch_size=300, validation_split=0.2"
   ],
   "metadata": {
    "collapsed": false
   },
   "id": "bc943f2089525236"
  },
  {
   "cell_type": "code",
   "execution_count": 223,
   "outputs": [
    {
     "name": "stdout",
     "output_type": "stream",
     "text": [
      "Epoch 1/5\n",
      "7/7 [==============================] - 1s 18ms/step - loss: 1.0564 - accuracy: 0.5536 - val_loss: 0.9858 - val_accuracy: 0.7354\n",
      "Epoch 2/5\n",
      "7/7 [==============================] - 0s 4ms/step - loss: 0.9401 - accuracy: 0.7880 - val_loss: 0.8892 - val_accuracy: 0.7937\n",
      "Epoch 3/5\n",
      "7/7 [==============================] - 0s 4ms/step - loss: 0.8473 - accuracy: 0.8073 - val_loss: 0.8040 - val_accuracy: 0.8167\n",
      "Epoch 4/5\n",
      "7/7 [==============================] - 0s 4ms/step - loss: 0.7598 - accuracy: 0.8229 - val_loss: 0.7159 - val_accuracy: 0.8313\n",
      "Epoch 5/5\n",
      "7/7 [==============================] - 0s 4ms/step - loss: 0.6685 - accuracy: 0.8536 - val_loss: 0.6252 - val_accuracy: 0.8542\n",
      "19/19 [==============================] - 0s 638us/step - loss: 0.5993 - accuracy: 0.8833\n",
      "loss: 0.5993263125419617\n",
      "accuracy: 88.33333253860474\n"
     ]
    }
   ],
   "source": [
    "model.fit(X_train, y_train, epochs=5, batch_size=300, validation_split=0.2)\n",
    "loss, accuracy = model.evaluate(X_test, y_test)\n",
    "print('loss: '+ str(loss))\n",
    "print('accuracy: '+ str(accuracy*100))"
   ],
   "metadata": {
    "collapsed": false,
    "ExecuteTime": {
     "end_time": "2023-09-15T17:07:41.961536800Z",
     "start_time": "2023-09-15T17:07:41.240235700Z"
    }
   },
   "id": "3e62ce7b3ca92b34"
  },
  {
   "cell_type": "markdown",
   "source": [
    "### Test 2. Epochs=10, batch_size=350, validation_split=0.25"
   ],
   "metadata": {
    "collapsed": false
   },
   "id": "a2201598988034d0"
  },
  {
   "cell_type": "code",
   "execution_count": 224,
   "outputs": [
    {
     "name": "stdout",
     "output_type": "stream",
     "text": [
      "Epoch 1/10\n",
      "6/6 [==============================] - 1s 22ms/step - loss: 1.0338 - accuracy: 0.5528 - val_loss: 0.9670 - val_accuracy: 0.7483\n",
      "Epoch 2/10\n",
      "6/6 [==============================] - 0s 5ms/step - loss: 0.9368 - accuracy: 0.7872 - val_loss: 0.8749 - val_accuracy: 0.8050\n",
      "Epoch 3/10\n",
      "6/6 [==============================] - 0s 4ms/step - loss: 0.8444 - accuracy: 0.8111 - val_loss: 0.7831 - val_accuracy: 0.8133\n",
      "Epoch 4/10\n",
      "6/6 [==============================] - 0s 5ms/step - loss: 0.7511 - accuracy: 0.8200 - val_loss: 0.6891 - val_accuracy: 0.8167\n",
      "Epoch 5/10\n",
      "6/6 [==============================] - 0s 4ms/step - loss: 0.6579 - accuracy: 0.8261 - val_loss: 0.6003 - val_accuracy: 0.8200\n",
      "Epoch 6/10\n",
      "6/6 [==============================] - 0s 5ms/step - loss: 0.5730 - accuracy: 0.8372 - val_loss: 0.5224 - val_accuracy: 0.8450\n",
      "Epoch 7/10\n",
      "6/6 [==============================] - 0s 5ms/step - loss: 0.4986 - accuracy: 0.8644 - val_loss: 0.4574 - val_accuracy: 0.8667\n",
      "Epoch 8/10\n",
      "6/6 [==============================] - 0s 5ms/step - loss: 0.4364 - accuracy: 0.8972 - val_loss: 0.4029 - val_accuracy: 0.8967\n",
      "Epoch 9/10\n",
      "6/6 [==============================] - 0s 5ms/step - loss: 0.3831 - accuracy: 0.9278 - val_loss: 0.3544 - val_accuracy: 0.9267\n",
      "Epoch 10/10\n",
      "6/6 [==============================] - 0s 5ms/step - loss: 0.3355 - accuracy: 0.9550 - val_loss: 0.3110 - val_accuracy: 0.9567\n",
      "19/19 [==============================] - 0s 737us/step - loss: 0.2915 - accuracy: 0.9683\n",
      "loss: 0.29145166277885437\n",
      "accuracy: 96.83333039283752\n"
     ]
    }
   ],
   "source": [
    "model = Sequential()\n",
    "model.add(Dense(32, activation='relu', input_dim=5))\n",
    "\n",
    "model.add(Dense(32, activation='relu'))\n",
    "model.add(Dense(16, activation='relu'))\n",
    "model.add(Dense(3, activation='softmax'))\n",
    "\n",
    "model.compile(loss='sparse_categorical_crossentropy', optimizer='adam', metrics=['accuracy'])\n",
    "model.fit(X_train, y_train, epochs=10, batch_size=350, validation_split=0.25)\n",
    "loss, accuracy = model.evaluate(X_test, y_test)\n",
    "print('loss: '+ str(loss))\n",
    "print('accuracy: '+ str(accuracy*100))"
   ],
   "metadata": {
    "collapsed": false,
    "ExecuteTime": {
     "end_time": "2023-09-15T17:07:43.115580700Z",
     "start_time": "2023-09-15T17:07:41.962537200Z"
    }
   },
   "id": "3e4fb76dd3ac2eda"
  },
  {
   "cell_type": "markdown",
   "source": [
    "### Test 3. Epochs=10, batch_size=100, validation_split=0.15\n"
   ],
   "metadata": {
    "collapsed": false
   },
   "id": "2060719e2fefc9b1"
  },
  {
   "cell_type": "code",
   "execution_count": 225,
   "outputs": [
    {
     "name": "stdout",
     "output_type": "stream",
     "text": [
      "Epoch 1/10\n",
      "21/21 [==============================] - 1s 6ms/step - loss: 1.0026 - accuracy: 0.5221 - val_loss: 0.8505 - val_accuracy: 0.7417\n",
      "Epoch 2/10\n",
      "21/21 [==============================] - 0s 2ms/step - loss: 0.7483 - accuracy: 0.7848 - val_loss: 0.6517 - val_accuracy: 0.7667\n",
      "Epoch 3/10\n",
      "21/21 [==============================] - 0s 2ms/step - loss: 0.5695 - accuracy: 0.8392 - val_loss: 0.4996 - val_accuracy: 0.8306\n",
      "Epoch 4/10\n",
      "21/21 [==============================] - 0s 2ms/step - loss: 0.4171 - accuracy: 0.8971 - val_loss: 0.3601 - val_accuracy: 0.9306\n",
      "Epoch 5/10\n",
      "21/21 [==============================] - 0s 2ms/step - loss: 0.2807 - accuracy: 0.9730 - val_loss: 0.2246 - val_accuracy: 0.9917\n",
      "Epoch 6/10\n",
      "21/21 [==============================] - 0s 2ms/step - loss: 0.1574 - accuracy: 0.9956 - val_loss: 0.1117 - val_accuracy: 0.9944\n",
      "Epoch 7/10\n",
      "21/21 [==============================] - 0s 2ms/step - loss: 0.0770 - accuracy: 0.9985 - val_loss: 0.0553 - val_accuracy: 1.0000\n",
      "Epoch 8/10\n",
      "21/21 [==============================] - 0s 2ms/step - loss: 0.0395 - accuracy: 0.9990 - val_loss: 0.0314 - val_accuracy: 1.0000\n",
      "Epoch 9/10\n",
      "21/21 [==============================] - 0s 2ms/step - loss: 0.0236 - accuracy: 0.9995 - val_loss: 0.0200 - val_accuracy: 1.0000\n",
      "Epoch 10/10\n",
      "21/21 [==============================] - 0s 2ms/step - loss: 0.0157 - accuracy: 0.9995 - val_loss: 0.0143 - val_accuracy: 1.0000\n",
      "19/19 [==============================] - 0s 561us/step - loss: 0.0124 - accuracy: 1.0000\n",
      "loss: 0.012390967458486557\n",
      "accuracy: 100.0\n"
     ]
    }
   ],
   "source": [
    "model = Sequential()\n",
    "model.add(Dense(32, activation='relu', input_dim=5))\n",
    "\n",
    "model.add(Dense(32, activation='relu'))\n",
    "model.add(Dense(16, activation='relu'))\n",
    "model.add(Dense(3, activation='softmax'))\n",
    "\n",
    "model.compile(loss='sparse_categorical_crossentropy', optimizer='adam', metrics=['accuracy'])\n",
    "model.fit(X_train, y_train, epochs=10, batch_size=100, validation_split=0.15)\n",
    "loss, accuracy = model.evaluate(X_test, y_test)\n",
    "print('loss: '+ str(loss))\n",
    "print('accuracy: '+ str(accuracy*100))"
   ],
   "metadata": {
    "collapsed": false,
    "ExecuteTime": {
     "end_time": "2023-09-15T17:07:44.099342800Z",
     "start_time": "2023-09-15T17:07:43.116580900Z"
    }
   },
   "id": "22ad3e8163a1258e"
  },
  {
   "cell_type": "markdown",
   "source": [
    "### Test 4. Epochs=7, batch_size=350, validation_split=0.30\n"
   ],
   "metadata": {
    "collapsed": false
   },
   "id": "bb971b9a073c2c53"
  },
  {
   "cell_type": "code",
   "execution_count": 226,
   "outputs": [
    {
     "name": "stdout",
     "output_type": "stream",
     "text": [
      "Epoch 1/7\n",
      "5/5 [==============================] - 1s 28ms/step - loss: 1.0660 - accuracy: 0.5530 - val_loss: 1.0430 - val_accuracy: 0.6653\n",
      "Epoch 2/7\n",
      "5/5 [==============================] - 0s 6ms/step - loss: 1.0260 - accuracy: 0.7268 - val_loss: 1.0042 - val_accuracy: 0.7542\n",
      "Epoch 3/7\n",
      "5/5 [==============================] - 0s 6ms/step - loss: 0.9842 - accuracy: 0.7976 - val_loss: 0.9607 - val_accuracy: 0.7861\n",
      "Epoch 4/7\n",
      "5/5 [==============================] - 0s 6ms/step - loss: 0.9357 - accuracy: 0.8393 - val_loss: 0.9096 - val_accuracy: 0.8208\n",
      "Epoch 5/7\n",
      "5/5 [==============================] - 0s 6ms/step - loss: 0.8793 - accuracy: 0.8655 - val_loss: 0.8517 - val_accuracy: 0.8431\n",
      "Epoch 6/7\n",
      "5/5 [==============================] - 0s 6ms/step - loss: 0.8177 - accuracy: 0.8893 - val_loss: 0.7887 - val_accuracy: 0.8708\n",
      "Epoch 7/7\n",
      "5/5 [==============================] - 0s 6ms/step - loss: 0.7508 - accuracy: 0.9161 - val_loss: 0.7210 - val_accuracy: 0.9000\n",
      "19/19 [==============================] - 0s 629us/step - loss: 0.6970 - accuracy: 0.9367\n",
      "loss: 0.6970193386077881\n",
      "accuracy: 93.66666674613953\n"
     ]
    }
   ],
   "source": [
    "model = Sequential()\n",
    "model.add(Dense(32, activation='relu', input_dim=5))\n",
    "\n",
    "model.add(Dense(32, activation='relu'))\n",
    "model.add(Dense(16, activation='relu'))\n",
    "model.add(Dense(3, activation='softmax'))\n",
    "\n",
    "model.compile(loss='sparse_categorical_crossentropy', optimizer='adam', metrics=['accuracy'])\n",
    "model.fit(X_train, y_train, epochs=7, batch_size=350, validation_split=0.30)\n",
    "loss, accuracy = model.evaluate(X_test, y_test)\n",
    "print('loss: '+ str(loss))\n",
    "print('accuracy: '+ str(accuracy*100))"
   ],
   "metadata": {
    "collapsed": false,
    "ExecuteTime": {
     "end_time": "2023-09-15T17:07:44.883628900Z",
     "start_time": "2023-09-15T17:07:44.096830Z"
    }
   },
   "id": "550d3f8317465a79"
  },
  {
   "cell_type": "markdown",
   "source": [
    "### Test 5. Epochs=7, batch_size=300, validation_split=0.20\n"
   ],
   "metadata": {
    "collapsed": false
   },
   "id": "25fb2fade9c432ef"
  },
  {
   "cell_type": "code",
   "execution_count": 227,
   "outputs": [
    {
     "name": "stdout",
     "output_type": "stream",
     "text": [
      "Epoch 1/7\n",
      "7/7 [==============================] - 1s 18ms/step - loss: 1.1919 - accuracy: 0.5130 - val_loss: 1.1205 - val_accuracy: 0.5604\n",
      "Epoch 2/7\n",
      "7/7 [==============================] - 0s 4ms/step - loss: 1.0851 - accuracy: 0.5536 - val_loss: 1.0204 - val_accuracy: 0.5021\n",
      "Epoch 3/7\n",
      "7/7 [==============================] - 0s 4ms/step - loss: 0.9819 - accuracy: 0.5349 - val_loss: 0.9202 - val_accuracy: 0.6354\n",
      "Epoch 4/7\n",
      "7/7 [==============================] - 0s 4ms/step - loss: 0.8792 - accuracy: 0.7453 - val_loss: 0.8175 - val_accuracy: 0.7771\n",
      "Epoch 5/7\n",
      "7/7 [==============================] - 0s 4ms/step - loss: 0.7746 - accuracy: 0.8234 - val_loss: 0.7171 - val_accuracy: 0.7812\n",
      "Epoch 6/7\n",
      "7/7 [==============================] - 0s 4ms/step - loss: 0.6743 - accuracy: 0.8297 - val_loss: 0.6217 - val_accuracy: 0.8021\n",
      "Epoch 7/7\n",
      "7/7 [==============================] - 0s 4ms/step - loss: 0.5799 - accuracy: 0.8490 - val_loss: 0.5344 - val_accuracy: 0.8271\n",
      "19/19 [==============================] - 0s 636us/step - loss: 0.5041 - accuracy: 0.8867\n",
      "loss: 0.50412917137146\n",
      "accuracy: 88.66666555404663\n"
     ]
    }
   ],
   "source": [
    "model = Sequential()\n",
    "model.add(Dense(32, activation='relu', input_dim=5))\n",
    "\n",
    "model.add(Dense(32, activation='relu'))\n",
    "model.add(Dense(16, activation='relu'))\n",
    "model.add(Dense(3, activation='softmax'))\n",
    "\n",
    "model.compile(loss='sparse_categorical_crossentropy', optimizer='adam', metrics=['accuracy'])\n",
    "model.fit(X_train, y_train, epochs=7, batch_size=300, validation_split=0.20)\n",
    "loss, accuracy = model.evaluate(X_test, y_test)\n",
    "print('loss: '+ str(loss))\n",
    "print('accuracy: '+ str(accuracy*100))"
   ],
   "metadata": {
    "collapsed": false,
    "ExecuteTime": {
     "end_time": "2023-09-15T17:07:45.680554700Z",
     "start_time": "2023-09-15T17:07:44.882628500Z"
    }
   },
   "id": "df2bd35640a5824e"
  },
  {
   "cell_type": "markdown",
   "source": [],
   "metadata": {
    "collapsed": false
   },
   "id": "f936e01114c9ebd5"
  }
 ],
 "metadata": {
  "kernelspec": {
   "display_name": "Python 3",
   "language": "python",
   "name": "python3"
  },
  "language_info": {
   "codemirror_mode": {
    "name": "ipython",
    "version": 2
   },
   "file_extension": ".py",
   "mimetype": "text/x-python",
   "name": "python",
   "nbconvert_exporter": "python",
   "pygments_lexer": "ipython2",
   "version": "2.7.6"
  }
 },
 "nbformat": 4,
 "nbformat_minor": 5
}
