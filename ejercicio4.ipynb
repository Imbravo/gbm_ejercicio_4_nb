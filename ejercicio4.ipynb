{
 "cells": [
  {
   "cell_type": "markdown",
   "source": [
    "# Author: Jesus Ponte\n",
    "# Fecha: 15/09/2023\n",
    "# Ejercicio 4. Modelo de clasificación con Keras\n"
   ],
   "metadata": {
    "collapsed": false
   },
   "id": "451f97c84d883dab"
  },
  {
   "cell_type": "markdown",
   "source": [
    "## Importación de librerias\n",
    "### Se utiliza numpy para hacer la creación de la data random, manejo de los arrays, hacer shuffle de la data.\n",
    "### Sklearn para hacer la separación de la data a train, test\n",
    "### Keras para la creación de la red neuronal y las capas. \n"
   ],
   "metadata": {
    "collapsed": false
   },
   "id": "b40c30b3d464717a"
  },
  {
   "cell_type": "code",
   "execution_count": 265,
   "id": "initial_id",
   "metadata": {
    "collapsed": true,
    "ExecuteTime": {
     "end_time": "2023-09-15T07:08:24.923046400Z",
     "start_time": "2023-09-15T07:08:24.910307Z"
    }
   },
   "outputs": [],
   "source": [
    "import numpy as np\n",
    "import keras\n",
    "from keras.models import Sequential\n",
    "from keras.layers import Dense\n",
    "from sklearn.model_selection import train_test_split\n",
    "from sklearn.preprocessing import StandardScaler\n",
    "#No uso pandas porque no haré limpieza de datos en general. "
   ]
  },
  {
   "cell_type": "markdown",
   "source": [
    "### Creación de la data random para las compras medianas"
   ],
   "metadata": {
    "collapsed": false
   },
   "id": "686daeccbc113e9f"
  },
  {
   "cell_type": "code",
   "execution_count": 266,
   "outputs": [],
   "source": [
    "np.random.seed(333)\n",
    "\n",
    "med_low = 11\n",
    "med_high = 20\n",
    "n_samples = 1000\n",
    "\n",
    "rng_med = np.random.uniform(low = med_low,high = med_high,size= (n_samples, 4))\n",
    "list = []\n",
    "\n",
    "for row in rng_med:\n",
    "    list.append( [np.random.uniform(max(row), med_high)])\n",
    "rng_med = np.append(rng_med, list, axis=1)\n",
    "rng_med[:, 0] = np.random.randint(1,10,n_samples)\n"
   ],
   "metadata": {
    "collapsed": false,
    "ExecuteTime": {
     "end_time": "2023-09-15T07:08:24.926442900Z",
     "start_time": "2023-09-15T07:08:24.914486100Z"
    }
   },
   "id": "66b3041d3b46a64d"
  },
  {
   "cell_type": "markdown",
   "source": [
    "### Creación de la data random para las compras pequeñas\n"
   ],
   "metadata": {
    "collapsed": false
   },
   "id": "516e53029db598d2"
  },
  {
   "cell_type": "code",
   "execution_count": 267,
   "outputs": [],
   "source": [
    "low_low = 1\n",
    "low_high = 10\n",
    "\n",
    "rng_low = np.random.uniform(low = low_low,high = low_high,size= (n_samples, 4))\n",
    "list = []\n",
    "\n",
    "for row in rng_low:\n",
    "    list.append( [np.random.uniform(max(row), low_high)])\n",
    "rng_low = np.append(rng_low, list, axis=1)\n",
    "rng_low[:, 0] = np.random.randint(1,10,n_samples)"
   ],
   "metadata": {
    "collapsed": false,
    "ExecuteTime": {
     "end_time": "2023-09-15T07:08:24.961285100Z",
     "start_time": "2023-09-15T07:08:24.920544300Z"
    }
   },
   "id": "df5d7abb7e062896"
  },
  {
   "cell_type": "markdown",
   "source": [
    "### Creación de la data random para las compras grandes\n"
   ],
   "metadata": {
    "collapsed": false
   },
   "id": "e67e641b47492c62"
  },
  {
   "cell_type": "code",
   "execution_count": 268,
   "outputs": [],
   "source": [
    "high_low = 21\n",
    "high_high = 30\n",
    "\n",
    "rng_high = np.random.uniform(low = high_low, high = high_high, size= (n_samples, 4))\n",
    "list = []\n",
    "\n",
    "for row in rng_high:\n",
    "    list.append( [np.random.uniform(max(row), high_high)])\n",
    "rng_high = np.append(rng_high, list, axis=1)\n",
    "rng_high[:, 0] = np.random.randint(1,10,n_samples)"
   ],
   "metadata": {
    "collapsed": false,
    "ExecuteTime": {
     "end_time": "2023-09-15T07:08:24.993385300Z",
     "start_time": "2023-09-15T07:08:24.928446500Z"
    }
   },
   "id": "b0f5f4c43caed0c"
  },
  {
   "cell_type": "code",
   "execution_count": 269,
   "outputs": [
    {
     "data": {
      "text/plain": "array([[ 2.        , 17.56055655, 11.15193301, 13.97304923, 17.59518743],\n       [ 6.        , 11.43473299, 11.94077169, 11.87693764, 17.3944537 ],\n       [ 4.        , 18.86140419, 11.46450475, 11.54433202, 19.46905195],\n       ...,\n       [ 4.        , 12.91925794, 13.21955606, 13.62179205, 19.37036117],\n       [ 4.        , 15.65889737, 18.01012532, 18.35458078, 19.83299465],\n       [ 2.        , 12.74743122, 17.98777563, 13.73634595, 19.14762349]])"
     },
     "execution_count": 269,
     "metadata": {},
     "output_type": "execute_result"
    }
   ],
   "source": [
    "rng_med"
   ],
   "metadata": {
    "collapsed": false,
    "ExecuteTime": {
     "end_time": "2023-09-15T07:08:24.993385300Z",
     "start_time": "2023-09-15T07:08:24.935445600Z"
    }
   },
   "id": "48e6a7ec28119e42"
  },
  {
   "cell_type": "code",
   "execution_count": 270,
   "outputs": [
    {
     "data": {
      "text/plain": "array([[6.        , 8.03217632, 8.52973323, 4.16977679, 8.89817662],\n       [1.        , 6.9881703 , 5.51239991, 8.11898087, 9.79409963],\n       [5.        , 5.69055765, 1.60896424, 8.48162857, 9.72490114],\n       ...,\n       [7.        , 7.81347441, 7.34466964, 1.10104672, 9.07062656],\n       [7.        , 4.37344452, 4.3505672 , 9.21694486, 9.42416774],\n       [1.        , 9.11248288, 5.08554487, 9.93419801, 9.95509892]])"
     },
     "execution_count": 270,
     "metadata": {},
     "output_type": "execute_result"
    }
   ],
   "source": [
    "rng_low"
   ],
   "metadata": {
    "collapsed": false,
    "ExecuteTime": {
     "end_time": "2023-09-15T07:08:24.994385Z",
     "start_time": "2023-09-15T07:08:24.938363Z"
    }
   },
   "id": "a2290a0b46841b7d"
  },
  {
   "cell_type": "code",
   "execution_count": 271,
   "outputs": [
    {
     "data": {
      "text/plain": "array([[ 9.        , 27.93983489, 23.02371397, 28.35584981, 28.79973221],\n       [ 9.        , 23.97186544, 25.42886019, 22.67645848, 26.48657905],\n       [ 8.        , 27.98322768, 26.52426546, 26.58187201, 28.86926336],\n       ...,\n       [ 2.        , 27.69929217, 22.81577766, 27.00310881, 28.78735209],\n       [ 2.        , 24.0582314 , 25.6140638 , 25.10506824, 29.6338751 ],\n       [ 1.        , 28.40784474, 29.50818809, 28.1817416 , 29.76460037]])"
     },
     "execution_count": 271,
     "metadata": {},
     "output_type": "execute_result"
    }
   ],
   "source": [
    "rng_high"
   ],
   "metadata": {
    "collapsed": false,
    "ExecuteTime": {
     "end_time": "2023-09-15T07:08:24.994385Z",
     "start_time": "2023-09-15T07:08:24.942463300Z"
    }
   },
   "id": "4da4aadda6dfe2bb"
  },
  {
   "cell_type": "markdown",
   "source": [
    "### Unión de las tres matrices para la creación de una tabla monolitica"
   ],
   "metadata": {
    "collapsed": false
   },
   "id": "388fd77a39565d16"
  },
  {
   "cell_type": "code",
   "execution_count": 272,
   "outputs": [],
   "source": [
    "sales = np.vstack([rng_low, rng_med, rng_high])"
   ],
   "metadata": {
    "collapsed": false,
    "ExecuteTime": {
     "end_time": "2023-09-15T07:08:24.994385Z",
     "start_time": "2023-09-15T07:08:24.945517600Z"
    }
   },
   "id": "d6175735a5669b4b"
  },
  {
   "cell_type": "code",
   "execution_count": 273,
   "outputs": [
    {
     "data": {
      "text/plain": "array([[ 6.        ,  8.03217632,  8.52973323,  4.16977679,  8.89817662],\n       [ 1.        ,  6.9881703 ,  5.51239991,  8.11898087,  9.79409963],\n       [ 5.        ,  5.69055765,  1.60896424,  8.48162857,  9.72490114],\n       ...,\n       [ 2.        , 27.69929217, 22.81577766, 27.00310881, 28.78735209],\n       [ 2.        , 24.0582314 , 25.6140638 , 25.10506824, 29.6338751 ],\n       [ 1.        , 28.40784474, 29.50818809, 28.1817416 , 29.76460037]])"
     },
     "execution_count": 273,
     "metadata": {},
     "output_type": "execute_result"
    }
   ],
   "source": [
    "sales"
   ],
   "metadata": {
    "collapsed": false,
    "ExecuteTime": {
     "end_time": "2023-09-15T07:08:24.994385Z",
     "start_time": "2023-09-15T07:08:24.949511100Z"
    }
   },
   "id": "7930bfba27b1bccc"
  },
  {
   "cell_type": "code",
   "execution_count": 274,
   "outputs": [],
   "source": [
    "labels = np.array([0] * n_samples + [1] * n_samples + [2] * n_samples)"
   ],
   "metadata": {
    "collapsed": false,
    "ExecuteTime": {
     "end_time": "2023-09-15T07:08:24.994385Z",
     "start_time": "2023-09-15T07:08:24.953189900Z"
    }
   },
   "id": "fe6f26cb694266a0"
  },
  {
   "cell_type": "code",
   "execution_count": 275,
   "outputs": [],
   "source": [
    "shuffle = np.arange(sales.shape[0])\n",
    "np.random.shuffle(shuffle)"
   ],
   "metadata": {
    "collapsed": false,
    "ExecuteTime": {
     "end_time": "2023-09-15T07:08:24.994385Z",
     "start_time": "2023-09-15T07:08:24.955648200Z"
    }
   },
   "id": "2711e600848d42c4"
  },
  {
   "cell_type": "code",
   "execution_count": 276,
   "outputs": [],
   "source": [
    "data = sales[shuffle]\n",
    "labels = labels[shuffle]"
   ],
   "metadata": {
    "collapsed": false,
    "ExecuteTime": {
     "end_time": "2023-09-15T07:08:24.994385Z",
     "start_time": "2023-09-15T07:08:24.958479600Z"
    }
   },
   "id": "e3111011f6d4a13"
  },
  {
   "cell_type": "code",
   "execution_count": 277,
   "outputs": [],
   "source": [
    "X_train, X_test, y_train, y_test = train_test_split(data, labels, test_size=0.2, random_state=50)\n",
    "\n",
    "scaler = StandardScaler()\n",
    "X_train = scaler.fit_transform(X_train)\n",
    "X_test = scaler.transform(X_test)"
   ],
   "metadata": {
    "collapsed": false,
    "ExecuteTime": {
     "end_time": "2023-09-15T07:08:24.995386500Z",
     "start_time": "2023-09-15T07:08:24.962284700Z"
    }
   },
   "id": "13e6024738641658"
  },
  {
   "cell_type": "code",
   "execution_count": 278,
   "outputs": [
    {
     "name": "stdout",
     "output_type": "stream",
     "text": [
      "Epoch 1/5\n",
      "7/7 [==============================] - 1s 17ms/step - loss: 1.1756 - accuracy: 0.3990 - val_loss: 1.1003 - val_accuracy: 0.5208\n",
      "Epoch 2/5\n",
      "7/7 [==============================] - 0s 4ms/step - loss: 1.0462 - accuracy: 0.5583 - val_loss: 0.9869 - val_accuracy: 0.5813\n",
      "Epoch 3/5\n",
      "7/7 [==============================] - 0s 4ms/step - loss: 0.9390 - accuracy: 0.7661 - val_loss: 0.8846 - val_accuracy: 0.8188\n",
      "Epoch 4/5\n",
      "7/7 [==============================] - 0s 4ms/step - loss: 0.8394 - accuracy: 0.8318 - val_loss: 0.7895 - val_accuracy: 0.8042\n",
      "Epoch 5/5\n",
      "7/7 [==============================] - 0s 4ms/step - loss: 0.7450 - accuracy: 0.8245 - val_loss: 0.6963 - val_accuracy: 0.8000\n"
     ]
    },
    {
     "data": {
      "text/plain": "<keras.src.callbacks.History at 0x20394ab7d90>"
     },
     "execution_count": 278,
     "metadata": {},
     "output_type": "execute_result"
    }
   ],
   "source": [
    "model = Sequential()\n",
    "model.add(Dense(32, activation='relu', input_dim=5))\n",
    "\n",
    "model.add(Dense(32, activation='relu'))\n",
    "model.add(Dense(16, activation='relu'))\n",
    "model.add(Dense(3, activation='softmax'))\n",
    "\n",
    "model.compile(loss='sparse_categorical_crossentropy', optimizer='adam', metrics=['accuracy'])\n",
    "\n",
    "model.fit(X_train, y_train, epochs=5, batch_size=300, validation_split=0.2)"
   ],
   "metadata": {
    "collapsed": false,
    "ExecuteTime": {
     "end_time": "2023-09-15T07:08:25.650947200Z",
     "start_time": "2023-09-15T07:08:24.966918200Z"
    }
   },
   "id": "440a35ac9e94c238"
  },
  {
   "cell_type": "code",
   "execution_count": 279,
   "outputs": [
    {
     "name": "stdout",
     "output_type": "stream",
     "text": [
      "19/19 [==============================] - 0s 614us/step - loss: 0.6764 - accuracy: 0.8317\n",
      "loss: 0.6764496564865112\n",
      "accuracy: 83.1666648387909\n"
     ]
    }
   ],
   "source": [
    "loss, accuracy = model.evaluate(X_test, y_test)\n",
    "print('loss: '+ str(loss))\n",
    "print('accuracy: '+ str(accuracy*100))"
   ],
   "metadata": {
    "collapsed": false,
    "ExecuteTime": {
     "end_time": "2023-09-15T07:08:25.701168800Z",
     "start_time": "2023-09-15T07:08:25.649948200Z"
    }
   },
   "id": "e2e5e239b8395850"
  },
  {
   "cell_type": "code",
   "execution_count": 279,
   "outputs": [],
   "source": [],
   "metadata": {
    "collapsed": false,
    "ExecuteTime": {
     "end_time": "2023-09-15T07:08:25.703676400Z",
     "start_time": "2023-09-15T07:08:25.701168800Z"
    }
   },
   "id": "3e4fb76dd3ac2eda"
  }
 ],
 "metadata": {
  "kernelspec": {
   "display_name": "Python 3",
   "language": "python",
   "name": "python3"
  },
  "language_info": {
   "codemirror_mode": {
    "name": "ipython",
    "version": 2
   },
   "file_extension": ".py",
   "mimetype": "text/x-python",
   "name": "python",
   "nbconvert_exporter": "python",
   "pygments_lexer": "ipython2",
   "version": "2.7.6"
  }
 },
 "nbformat": 4,
 "nbformat_minor": 5
}
